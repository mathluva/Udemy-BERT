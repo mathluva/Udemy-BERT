{
  "nbformat": 4,
  "nbformat_minor": 0,
  "metadata": {
    "colab": {
      "name": "Udemy-BERT.ipynb",
      "provenance": [],
      "collapsed_sections": [],
      "toc_visible": true,
      "authorship_tag": "ABX9TyNQ+z8UktyOhofd0/BCTcwQ",
      "include_colab_link": true
    },
    "kernelspec": {
      "name": "python3",
      "display_name": "Python 3"
    },
    "language_info": {
      "name": "python"
    },
    "accelerator": "GPU"
  },
  "cells": [
    {
      "cell_type": "markdown",
      "metadata": {
        "id": "view-in-github",
        "colab_type": "text"
      },
      "source": [
        "<a href=\"https://colab.research.google.com/github/mathluva/Udemy-BERT/blob/main/Udemy_BERT.ipynb\" target=\"_parent\"><img src=\"https://colab.research.google.com/assets/colab-badge.svg\" alt=\"Open In Colab\"/></a>"
      ]
    },
    {
      "cell_type": "code",
      "metadata": {
        "id": "1DAzW0Ni4UAu"
      },
      "source": [
        "#import dependencies\n",
        "import numpy as np\n",
        "import math\n",
        "import re\n",
        "import pandas as pd\n",
        "from bs4 import BeautifulSoup\n",
        "import random\n",
        "\n",
        "from google.colab import drive"
      ],
      "execution_count": 1,
      "outputs": []
    },
    {
      "cell_type": "code",
      "metadata": {
        "colab": {
          "base_uri": "https://localhost:8080/"
        },
        "id": "k9PVoarm5XgE",
        "outputId": "f44d1916-c3b2-4963-b159-a016c325e985"
      },
      "source": [
        "#use ! for terminal commands\n",
        "!pip install bert-for-tf2 #tensorflow2 light version\n",
        "!pip install sentencepiece #required for BERT-tf2"
      ],
      "execution_count": 2,
      "outputs": [
        {
          "output_type": "stream",
          "text": [
            "Collecting bert-for-tf2\n",
            "\u001b[?25l  Downloading https://files.pythonhosted.org/packages/a5/a1/acb891630749c56901e770a34d6bac8a509a367dd74a05daf7306952e910/bert-for-tf2-0.14.9.tar.gz (41kB)\n",
            "\r\u001b[K     |████████                        | 10kB 25.2MB/s eta 0:00:01\r\u001b[K     |████████████████                | 20kB 32.8MB/s eta 0:00:01\r\u001b[K     |███████████████████████▉        | 30kB 21.8MB/s eta 0:00:01\r\u001b[K     |███████████████████████████████▉| 40kB 25.4MB/s eta 0:00:01\r\u001b[K     |████████████████████████████████| 51kB 6.3MB/s \n",
            "\u001b[?25hCollecting py-params>=0.9.6\n",
            "  Downloading https://files.pythonhosted.org/packages/aa/e0/4f663d8abf83c8084b75b995bd2ab3a9512ebc5b97206fde38cef906ab07/py-params-0.10.2.tar.gz\n",
            "Collecting params-flow>=0.8.0\n",
            "  Downloading https://files.pythonhosted.org/packages/a9/95/ff49f5ebd501f142a6f0aaf42bcfd1c192dc54909d1d9eb84ab031d46056/params-flow-0.8.2.tar.gz\n",
            "Requirement already satisfied: numpy in /usr/local/lib/python3.7/dist-packages (from params-flow>=0.8.0->bert-for-tf2) (1.19.5)\n",
            "Requirement already satisfied: tqdm in /usr/local/lib/python3.7/dist-packages (from params-flow>=0.8.0->bert-for-tf2) (4.41.1)\n",
            "Building wheels for collected packages: bert-for-tf2, py-params, params-flow\n",
            "  Building wheel for bert-for-tf2 (setup.py) ... \u001b[?25l\u001b[?25hdone\n",
            "  Created wheel for bert-for-tf2: filename=bert_for_tf2-0.14.9-cp37-none-any.whl size=30535 sha256=7a9638ce9e00e828ae4951d3163b8080d6e44429dd875d133134965c575e511b\n",
            "  Stored in directory: /root/.cache/pip/wheels/a1/04/ee/347bd9f5b821b637c76411d280271a857aece00358896a230f\n",
            "  Building wheel for py-params (setup.py) ... \u001b[?25l\u001b[?25hdone\n",
            "  Created wheel for py-params: filename=py_params-0.10.2-cp37-none-any.whl size=7912 sha256=bd2b488a1175d0bd1a9c3456c9a1e7d5a3d713523e7befc0f21cc2f1dc7e8e8e\n",
            "  Stored in directory: /root/.cache/pip/wheels/d0/4a/70/ff12450229ff1955abf01f365051d4faae1c20aef53ab4cf09\n",
            "  Building wheel for params-flow (setup.py) ... \u001b[?25l\u001b[?25hdone\n",
            "  Created wheel for params-flow: filename=params_flow-0.8.2-cp37-none-any.whl size=19472 sha256=f532688cea324547d16ecc6fbe9ae1a8e6fd76d9e471708a8d7b9944c3217b69\n",
            "  Stored in directory: /root/.cache/pip/wheels/08/c8/7f/81c86b9ff2b86e2c477e3914175be03e679e596067dc630c06\n",
            "Successfully built bert-for-tf2 py-params params-flow\n",
            "Installing collected packages: py-params, params-flow, bert-for-tf2\n",
            "Successfully installed bert-for-tf2-0.14.9 params-flow-0.8.2 py-params-0.10.2\n",
            "Collecting sentencepiece\n",
            "\u001b[?25l  Downloading https://files.pythonhosted.org/packages/f5/99/e0808cb947ba10f575839c43e8fafc9cc44e4a7a2c8f79c60db48220a577/sentencepiece-0.1.95-cp37-cp37m-manylinux2014_x86_64.whl (1.2MB)\n",
            "\u001b[K     |████████████████████████████████| 1.2MB 17.1MB/s \n",
            "\u001b[?25hInstalling collected packages: sentencepiece\n",
            "Successfully installed sentencepiece-0.1.95\n"
          ],
          "name": "stdout"
        }
      ]
    },
    {
      "cell_type": "code",
      "metadata": {
        "colab": {
          "base_uri": "https://localhost:8080/"
        },
        "id": "5_2Q7bhM5yyo",
        "outputId": "71759a72-589d-42bd-9837-21edcdb7f0b5"
      },
      "source": [
        "try:\n",
        "    %tensorflow_version 2.x #only available in Google colab\n",
        "except Exception:\n",
        "    pass\n",
        "import tensorflow as tf\n",
        "\n",
        "import tensorflow_hub as hub #used to import the weights from BERT\n",
        "\n",
        "from tensorflow.keras import layers\n",
        "import bert #installed in previous step"
      ],
      "execution_count": 3,
      "outputs": [
        {
          "output_type": "stream",
          "text": [
            "`%tensorflow_version` only switches the major version: 1.x or 2.x.\n",
            "You set: `2.x #only available in Google colab`. This will be interpreted as: `2.x`.\n",
            "\n",
            "\n",
            "TensorFlow 2.x selected.\n"
          ],
          "name": "stdout"
        }
      ]
    },
    {
      "cell_type": "markdown",
      "metadata": {
        "id": "QpEraUDf-ww2"
      },
      "source": [
        "# Data preprocessing\n"
      ]
    },
    {
      "cell_type": "code",
      "metadata": {
        "id": "uS-h5J916yJk",
        "colab": {
          "base_uri": "https://localhost:8080/"
        },
        "outputId": "0144c2e3-64b6-4198-e4c1-365a1cd07dde"
      },
      "source": [
        "#load files, data preprocessing\n",
        "drive.mount(\"/content/drive\")"
      ],
      "execution_count": 4,
      "outputs": [
        {
          "output_type": "stream",
          "text": [
            "Mounted at /content/drive\n"
          ],
          "name": "stdout"
        }
      ]
    },
    {
      "cell_type": "code",
      "metadata": {
        "id": "nnmHKgKq_GTe"
      },
      "source": [
        "#label columns\n",
        "#latin1 is common for western languages\n",
        "cols = [\"sentiment\", \"id\", \"date\", \"query\", \"user\", \"text\"]\n",
        "data = pd.read_csv(\n",
        "    \"/content/drive/MyDrive/trainingandtestdata.zip (Unzipped Files)/training.1600000.processed.noemoticon.csv\", \n",
        "    header = None,\n",
        "    names = cols,\n",
        "    engine = \"python\",\n",
        "    encoding = \"latin1\")"
      ],
      "execution_count": 5,
      "outputs": []
    },
    {
      "cell_type": "code",
      "metadata": {
        "id": "9ZBc-jZ-AJRP"
      },
      "source": [
        "#axis1 column data\n",
        "#without inplace=True, it would be required to write data = data.drop(\"...\")\n",
        "data.drop([\"id\", \"date\",\"query\", \"user\"], axis = 1, inplace = True)"
      ],
      "execution_count": 6,
      "outputs": []
    },
    {
      "cell_type": "code",
      "metadata": {
        "colab": {
          "base_uri": "https://localhost:8080/",
          "height": 204
        },
        "id": "iedT5fW1Awcp",
        "outputId": "c8529029-3869-43c9-cd0d-88ddd73b51ca"
      },
      "source": [
        "data.head()"
      ],
      "execution_count": 7,
      "outputs": [
        {
          "output_type": "execute_result",
          "data": {
            "text/html": [
              "<div>\n",
              "<style scoped>\n",
              "    .dataframe tbody tr th:only-of-type {\n",
              "        vertical-align: middle;\n",
              "    }\n",
              "\n",
              "    .dataframe tbody tr th {\n",
              "        vertical-align: top;\n",
              "    }\n",
              "\n",
              "    .dataframe thead th {\n",
              "        text-align: right;\n",
              "    }\n",
              "</style>\n",
              "<table border=\"1\" class=\"dataframe\">\n",
              "  <thead>\n",
              "    <tr style=\"text-align: right;\">\n",
              "      <th></th>\n",
              "      <th>sentiment</th>\n",
              "      <th>text</th>\n",
              "    </tr>\n",
              "  </thead>\n",
              "  <tbody>\n",
              "    <tr>\n",
              "      <th>0</th>\n",
              "      <td>0</td>\n",
              "      <td>@switchfoot http://twitpic.com/2y1zl - Awww, t...</td>\n",
              "    </tr>\n",
              "    <tr>\n",
              "      <th>1</th>\n",
              "      <td>0</td>\n",
              "      <td>is upset that he can't update his Facebook by ...</td>\n",
              "    </tr>\n",
              "    <tr>\n",
              "      <th>2</th>\n",
              "      <td>0</td>\n",
              "      <td>@Kenichan I dived many times for the ball. Man...</td>\n",
              "    </tr>\n",
              "    <tr>\n",
              "      <th>3</th>\n",
              "      <td>0</td>\n",
              "      <td>my whole body feels itchy and like its on fire</td>\n",
              "    </tr>\n",
              "    <tr>\n",
              "      <th>4</th>\n",
              "      <td>0</td>\n",
              "      <td>@nationwideclass no, it's not behaving at all....</td>\n",
              "    </tr>\n",
              "  </tbody>\n",
              "</table>\n",
              "</div>"
            ],
            "text/plain": [
              "   sentiment                                               text\n",
              "0          0  @switchfoot http://twitpic.com/2y1zl - Awww, t...\n",
              "1          0  is upset that he can't update his Facebook by ...\n",
              "2          0  @Kenichan I dived many times for the ball. Man...\n",
              "3          0    my whole body feels itchy and like its on fire \n",
              "4          0  @nationwideclass no, it's not behaving at all...."
            ]
          },
          "metadata": {
            "tags": []
          },
          "execution_count": 7
        }
      ]
    },
    {
      "cell_type": "code",
      "metadata": {
        "id": "yuOowEC5A77L"
      },
      "source": [
        "#cleaning\n",
        "#r is regEX (regexr.com for more documentation)\n",
        "def clean_tweet(tweet):\n",
        "    tweet = BeautifulSoup(tweet, \"lxml\").get_text() #tweets are not usuable as standard string, need BS to extract string\n",
        "    tweet = re.sub(r\"@[A-Za-z0-9]+\", ' ',tweet)#anything behind @symbol with empty space, apply to tweet\n",
        "    tweet = re.sub(r\"https?://[A-Za-z0-9./]+\", ' ', tweet)#? means the s can be there or not\n",
        "    tweet = re.sub(r\"[^a-zA-Z.!?]\", ' ', tweet) #keep only standard characters\n",
        "    tweet = re.sub(r\" +\", ' ', tweet) #replace multiple sequences of white space with only one white space\n",
        "    return tweet"
      ],
      "execution_count": 8,
      "outputs": []
    },
    {
      "cell_type": "code",
      "metadata": {
        "id": "o7OWnxvqDhPy"
      },
      "source": [
        "data_clean = [clean_tweet(tweet) for tweet in data.text]"
      ],
      "execution_count": 9,
      "outputs": []
    },
    {
      "cell_type": "code",
      "metadata": {
        "id": "JcyWH0k7Dp1R"
      },
      "source": [
        "#process sentiment\n",
        "data_labels = data.sentiment.values\n",
        "data_labels[data_labels ==4] =1 #data is using 0 and 4, replace 4 with standard 1"
      ],
      "execution_count": 10,
      "outputs": []
    },
    {
      "cell_type": "markdown",
      "metadata": {
        "id": "XYgOOo1qFCf2"
      },
      "source": [
        "# Tokenization\n"
      ]
    },
    {
      "cell_type": "code",
      "metadata": {
        "id": "pu5GO6VNEQME"
      },
      "source": [
        "#create BERT layer to have access to metadata for the tokenizer(like vocab size).\n",
        "#call BERT as a layer, hub is where all pretrained models are located\n",
        "#trainable = False bc we are not fine-tuning the weights\n",
        "FullTokenizer = bert.bert_tokenization.FullTokenizer\n",
        "bert_layer = hub.KerasLayer(\"https://tfhub.dev/tensorflow/bert_en_uncased_L-12_H-768_A-12/1\",\n",
        "                            trainable = False) \n",
        "vocab_file = bert_layer.resolved_object.vocab_file.asset_path.numpy() #way to have acces to vocab\n",
        "do_lower_case = bert_layer.resolved_object.do_lower_case.numpy()\n",
        "tokenizer = FullTokenizer(vocab_file, do_lower_case)"
      ],
      "execution_count": 11,
      "outputs": []
    },
    {
      "cell_type": "code",
      "metadata": {
        "id": "1UgKVfpYqQ9l"
      },
      "source": [
        "def encode_sentence(sent):\n",
        "    return tokenizer.convert_tokens_to_ids(tokenizer.tokenize(sent))"
      ],
      "execution_count": 12,
      "outputs": []
    },
    {
      "cell_type": "code",
      "metadata": {
        "id": "-j03moWVNYzC"
      },
      "source": [
        "data_inputs = [encode_sentence(sentence) for sentence in data_clean]"
      ],
      "execution_count": 13,
      "outputs": []
    },
    {
      "cell_type": "markdown",
      "metadata": {
        "id": "Ddn-T6UcPWiU"
      },
      "source": [
        "# Dataset Creation"
      ]
    },
    {
      "cell_type": "code",
      "metadata": {
        "id": "Vh5ARMEjNwXX"
      },
      "source": [
        "#create padding for each batches versus entire corpus, add token at end of each sentence\n",
        "#all input to have the same length in each batch\n",
        "#shuffle bc data the tweets are organized by sentiment\n",
        "\n",
        "data_with_len = [[sent, data_labels[i] ,len(sent)] \n",
        "                 for i, sent in enumerate(data_inputs)]\n",
        "random.shuffle(data_with_len) \n",
        "\n",
        "#lamba, anonymous function\n",
        "#data sorted by length\n",
        "data_with_len.sort(key=lambda x: x[2]) \n",
        "\n",
        "#keep only longer sentences bc shorter sentences may not \n",
        "#convey a lot a meaning after data cleanup\n",
        "sorted_all = [(sent_lab[0], sent_lab[1])\n",
        "                    for sent_lab in data_with_len if sent_lab[2]>7] "
      ],
      "execution_count": 18,
      "outputs": []
    },
    {
      "cell_type": "code",
      "metadata": {
        "id": "GOlUgZMu1OQf"
      },
      "source": [
        "#need from_generator bc sentences are different lengths\n",
        "all_dataset = tf.data.Dataset.from_generator(lambda: sorted_all, \n",
        "                                                output_types= (tf.int32, tf.int32))"
      ],
      "execution_count": 20,
      "outputs": []
    },
    {
      "cell_type": "code",
      "metadata": {
        "colab": {
          "base_uri": "https://localhost:8080/"
        },
        "id": "b4p6Q-Wyy59_",
        "outputId": "999d0f62-748b-4b05-fb5e-44a6cd7c702e"
      },
      "source": [
        "#print first element\n",
        "next(iter(all_dataset))"
      ],
      "execution_count": 21,
      "outputs": [
        {
          "output_type": "execute_result",
          "data": {
            "text/plain": [
              "(<tf.Tensor: shape=(8,), dtype=int32, numpy=\n",
              " array([11937,  1044,  4283,  2005,  2115, 14054,  2197,  2305],\n",
              "       dtype=int32)>, <tf.Tensor: shape=(), dtype=int32, numpy=1>)"
            ]
          },
          "metadata": {
            "tags": []
          },
          "execution_count": 21
        }
      ]
    },
    {
      "cell_type": "code",
      "metadata": {
        "id": "O9sMUdnkz6fT"
      },
      "source": [
        "#  padding\n",
        "BATCH_SIZE =32\n",
        "all_batched = all_dataset.padded_batch(BATCH_SIZE, padded_shapes=((None,  ), ()))"
      ],
      "execution_count": 25,
      "outputs": []
    },
    {
      "cell_type": "code",
      "metadata": {
        "colab": {
          "base_uri": "https://localhost:8080/"
        },
        "id": "t-np90Dr02FD",
        "outputId": "41705c62-adac-4c1d-8f52-400d4568f35e"
      },
      "source": [
        "next(iter(all_batched))"
      ],
      "execution_count": 28,
      "outputs": [
        {
          "output_type": "execute_result",
          "data": {
            "text/plain": [
              "(<tf.Tensor: shape=(32, 8), dtype=int32, numpy=\n",
              " array([[11937,  1044,  4283,  2005,  2115, 14054,  2197,  2305],\n",
              "        [ 2001,  2652,  6229,  1045,  2439,  2000,  1037,  2611],\n",
              "        [ 3199,  6712,  2015,  2428, 11891,  2123,  1056,  2027],\n",
              "        [ 4205, 12838,  2131,  1037,  2613, 10474,  3531,  2063],\n",
              "        [ 2026,  2047,  9927,  2000,  5326,  2026,  5855,   999],\n",
              "        [ 2735,  7245, 22104,  1045,  2031, 22939, 12171, 20192],\n",
              "        [ 1037,  6904,  2497,  4465,  2009,  2003,   999,  4283],\n",
              "        [ 2053, 21031,  2050,  2073,  2310,  2017,  2042,  1029],\n",
              "        [ 2064,  1056,  3637,  1012,  1012,  1012,  2153,  1012],\n",
              "        [ 2288,  1996,  4167, 14417,  3679,  3160,  2157,   999],\n",
              "        [ 8038,  2100, 14304,   999, 26478,  8609,  2015,  2767],\n",
              "        [12098,  5603,   999,   999,  3225,  4280,  2574,   999],\n",
              "        [ 2821,  2053,   999,  1045,  3246,  2027,  2128,  7929],\n",
              "        [ 2183,  2000,  2156,  1996,  3185,  2039,  2007,  3071],\n",
              "        [13718,  2053, 11082,  2145,  2131, 13842,  4312,  3531],\n",
              "        [ 2003, 16861,  1037,  2047,  2316, 24927,  9621,  4569],\n",
              "        [ 8038,  2100,  1996,  3103,  2003,  9716,   999,   999],\n",
              "        [11338, 14151,  2323,  2272,  2000,  5842,   999,   999],\n",
              "        [ 2279,  3902,  2000,  2000,  1996,  3328,  2003,  2012],\n",
              "        [ 2074, 17414,  2010,  2034,  3462,  2006,  4943,  7608],\n",
              "        [ 1045,  2113,  2021,  1045,  2572,  2145,  6517,  1012],\n",
              "        [ 1045,  3335,  2026,  6265, 24115,  1012,  1012,  1012],\n",
              "        [ 2067,  2000,  5702,  3287,  1998,  2931, 15124,  2291],\n",
              "        [ 2204, 11943,  2377,  2062,  2665,  2154,  7568,   999],\n",
              "        [ 3564,  2012,  2188,  2007,  1037, 14180,  2039,  2067],\n",
              "        [ 2821,  2129,  1045,  2293,  2026,  2210,  5542,  1012],\n",
              "        [ 9805,  2213,   999,  2214, 13405, 10275, 17153,  2696],\n",
              "        [11471,  3666,  3786,  2571, 10869,  1012,  3793,  2033],\n",
              "        [ 4394,  2026,  1039,  3501,  2006,  2420,  2066,  2023],\n",
              "        [ 4125,  1998, 12342,   999,  2051,  2005,  2147,  1012],\n",
              "        [ 2821,  2158,  2008, 19237,  2022,  3647,   999,  1060],\n",
              "        [ 7459,  2014,  2925,  2282,  3111,  2061,  2172,   999]],\n",
              "       dtype=int32)>, <tf.Tensor: shape=(32,), dtype=int32, numpy=\n",
              " array([1, 0, 0, 1, 1, 0, 1, 0, 0, 1, 1, 0, 0, 1, 0, 0, 1, 1, 0, 1, 0, 0,\n",
              "        0, 1, 0, 1, 1, 0, 0, 0, 0, 1], dtype=int32)>)"
            ]
          },
          "metadata": {
            "tags": []
          },
          "execution_count": 28
        }
      ]
    },
    {
      "cell_type": "code",
      "metadata": {
        "id": "mjSwvfbR19Ug"
      },
      "source": [
        "#get number of batches\n",
        "NB_BATCHES = math.ceil(len(sorted_all)/BATCH_SIZE)\n",
        "NB_BATCHES_TEST = NB_BATCHES//10\n",
        "all_batched.shuffle(NB_BATCHES)\n",
        "test_dataset = all_batched.take(NB_BATCHES_TEST)\n",
        "train_dataset = all_batched.skip(NB_BATCHES_TEST)"
      ],
      "execution_count": 31,
      "outputs": []
    },
    {
      "cell_type": "code",
      "metadata": {
        "id": "tEZvIF332-_F"
      },
      "source": [
        "class DCNN(tf.keras.Model):\n",
        "\n",
        "    def __init__(self, \n",
        "                 vocab_size,\n",
        "                 emb_dim = 128, \n",
        "                 nb_filters = 50,\n",
        "                 FFN_units = 512,\n",
        "                 nb_classes = 2, \n",
        "                 dropout_rate = 0.1,\n",
        "                 training = False,\n",
        "                 name = 'dcnn'):\n",
        "        \n",
        "        super(DCNN, self).__init__(name = name)\n",
        "\n",
        "        #creating layers used in the model, embedded\n",
        "        self.embedding = layers.Embedding(vocab_size, emb_dim)\n",
        "\n",
        "        self.bigram = layers.Conv1D(filters = nb_filters, \n",
        "                                               kernel_size =2, \n",
        "                                                padding = 'valid', \n",
        "                                                activation = 'relu')\n",
        "        \n",
        "        self.trigram = layers.Conv1D(filters = nb_filters, \n",
        "                                               kernel_size =3, \n",
        "                                                padding = 'valid', \n",
        "                                                activation = 'relu')\n",
        "\n",
        "        self.fourgram = layers.Conv1D(filters = nb_filters, \n",
        "                                               kernel_size =4, \n",
        "                                                padding = 'valid', \n",
        "                                                activation = 'relu')\n",
        "        \n",
        "        self.pool = layers.GlobalMaxPooling1D()\n",
        "\n",
        "        self.dense_1= layers.Dense(units = FFN_units,\n",
        "                                    activation = 'relu')\n",
        "        \n",
        "        self.dropout = layers.Dropout(rate = dropout_rate)\n",
        "        if nb_classes:\n",
        "            self.last_dense = layers.Dense(units = 1, activation = 'sigmoid')\n",
        "\n",
        "        else: \n",
        "            self.last_dense = layers.Dense(units = nb_classes, activation = 'softmax')\n",
        "\n",
        "    def call(self, inputs, training):\n",
        "        x = self.embedding(inputs)\n",
        "        x_1 = self.bigram(x)\n",
        "        x_1 = self.pool(x_1)\n",
        "        x_2 = self.bigram(x)\n",
        "        x_2 = self.pool(x_2) \n",
        "        x_3 = self.bigram(x)\n",
        "        x_3 = self.pool(x_3) #(batch_size, nb_filters)\n",
        "\n",
        "        merged = tf.concat([x_1, x_2, x_3], axis =-1)\n",
        "        merged = self.dense_1(merged)\n",
        "        merged = self.dropout(merged, training)\n",
        "        output = self.last_dense(merged)\n",
        "\n",
        "        return output"
      ],
      "execution_count": 60,
      "outputs": []
    },
    {
      "cell_type": "markdown",
      "metadata": {
        "id": "SUC8kabu9yrm"
      },
      "source": [
        "# Training\n"
      ]
    },
    {
      "cell_type": "code",
      "metadata": {
        "id": "e_aUyKDD9trg"
      },
      "source": [
        "VOCAB_SIZE =    len(tokenizer.vocab)\n",
        "EMB_DIM = 200\n",
        "NB_FILTERS = 100\n",
        "FFN_UNITS = 256\n",
        "NB_CLASSES = 2\n",
        "\n",
        "DROPOUT_RATE = 0.2\n",
        "\n",
        "NB_EPOCHS = 5"
      ],
      "execution_count": 61,
      "outputs": []
    },
    {
      "cell_type": "code",
      "metadata": {
        "id": "Is-CD869-M6x"
      },
      "source": [
        "Dcnn = DCNN(vocab_size = VOCAB_SIZE,\n",
        "                    emb_dim =   EMB_DIM,\n",
        "            nb_filters = NB_FILTERS, \n",
        "            FFN_units = FFN_UNITS,\n",
        "            nb_classes = NB_CLASSES,\n",
        "            dropout_rate = DROPOUT_RATE)\n",
        "            "
      ],
      "execution_count": 62,
      "outputs": []
    },
    {
      "cell_type": "code",
      "metadata": {
        "id": "_Xd278Zi-3NA"
      },
      "source": [
        "if NB_CLASSES ==2:\n",
        "    Dcnn.compile(loss = 'binary_crossentropy',\n",
        "                    optimizer = 'adam',\n",
        "                 metrics = ['accuracy'])\n",
        "\n",
        "else:\n",
        "    Dcnn.compile(loss = \"sparse_categorical_crossentropy\",\n",
        "                        optimizer = 'adam',\n",
        "                  metrics = ['sparse_categorical_crossentropy'])"
      ],
      "execution_count": 63,
      "outputs": []
    },
    {
      "cell_type": "code",
      "metadata": {
        "id": "AqHVxJrrAiAm"
      },
      "source": [
        "checkpoint_path = \"/content/drive/MyDrive/Colab Notebooks\"\n",
        "\n",
        "ckpt = tf.train.Checkpoint(Dcnn = Dcnn)\n",
        "\n",
        "ckpt_manager = tf.train.CheckpointManager(ckpt, checkpoint_path, max_to_keep =1)\n",
        "\n",
        "if ckpt_manager.latest_checkpoint:\n",
        "        ckpt.restore(ckpt_manager.latest_checkpoint)\n",
        "        print('Latest checkpoint has been restored')"
      ],
      "execution_count": 64,
      "outputs": []
    },
    {
      "cell_type": "code",
      "metadata": {
        "id": "u50EWnBnBYAg"
      },
      "source": [
        "#custom callback, execute during training\n",
        "class MyCustomCallback(tf.keras.callbacks.Callback):\n",
        "\n",
        "    def on_epoch_end(self, epoch, logs = None):\n",
        "        ckpt_manager.save()\n",
        "        print(\"Checkpoint saved at {}.\".format(checkpoint_path))"
      ],
      "execution_count": 65,
      "outputs": []
    },
    {
      "cell_type": "code",
      "metadata": {
        "colab": {
          "base_uri": "https://localhost:8080/"
        },
        "id": "cOpgdl8XCJRW",
        "outputId": "b7566e61-dd5d-4637-c09d-ceee03271cfd"
      },
      "source": [
        "Dcnn.fit(train_dataset,\n",
        "         epochs = NB_EPOCHS,\n",
        "         callbacks = [MyCustomCallback()])"
      ],
      "execution_count": null,
      "outputs": [
        {
          "output_type": "stream",
          "text": [
            "Epoch 1/5\n",
            "    711/Unknown - 85s 58ms/step - loss: 0.5556 - accuracy: 0.6995"
          ],
          "name": "stdout"
        }
      ]
    },
    {
      "cell_type": "code",
      "metadata": {
        "id": "Es_gSNApCUpf"
      },
      "source": [
        ""
      ],
      "execution_count": 59,
      "outputs": []
    }
  ]
}