{
  "nbformat": 4,
  "nbformat_minor": 0,
  "metadata": {
    "colab": {
      "name": "Udemy-BERT.ipynb",
      "provenance": [],
      "collapsed_sections": [],
      "toc_visible": true,
      "authorship_tag": "ABX9TyMlXGZ8taKwvaYAIDohMqi5",
      "include_colab_link": true
    },
    "kernelspec": {
      "name": "python3",
      "display_name": "Python 3"
    },
    "language_info": {
      "name": "python"
    },
    "accelerator": "GPU"
  },
  "cells": [
    {
      "cell_type": "markdown",
      "metadata": {
        "id": "view-in-github",
        "colab_type": "text"
      },
      "source": [
        "<a href=\"https://colab.research.google.com/github/mathluva/Udemy-BERT/blob/main/Udemy_BERT.ipynb\" target=\"_parent\"><img src=\"https://colab.research.google.com/assets/colab-badge.svg\" alt=\"Open In Colab\"/></a>"
      ]
    },
    {
      "cell_type": "code",
      "metadata": {
        "id": "1DAzW0Ni4UAu"
      },
      "source": [
        "#import dependencies\n",
        "import numpy as np\n",
        "import math\n",
        "import re\n",
        "import pandas as pd\n",
        "from bs4 import BeautifulSoup\n",
        "import random\n",
        "\n",
        "from google.colab import drive"
      ],
      "execution_count": 1,
      "outputs": []
    },
    {
      "cell_type": "code",
      "metadata": {
        "colab": {
          "base_uri": "https://localhost:8080/"
        },
        "id": "k9PVoarm5XgE",
        "outputId": "2f781327-a49e-4bac-d12b-9894dfb5a875"
      },
      "source": [
        "#use ! for terminal commands\n",
        "!pip install bert-for-tf2 #tensorflow2 light version\n",
        "!pip install sentencepiece #required for BERT-tf2"
      ],
      "execution_count": 2,
      "outputs": [
        {
          "output_type": "stream",
          "text": [
            "Collecting bert-for-tf2\n",
            "\u001b[?25l  Downloading https://files.pythonhosted.org/packages/a5/a1/acb891630749c56901e770a34d6bac8a509a367dd74a05daf7306952e910/bert-for-tf2-0.14.9.tar.gz (41kB)\n",
            "\r\u001b[K     |████████                        | 10kB 21.3MB/s eta 0:00:01\r\u001b[K     |████████████████                | 20kB 27.3MB/s eta 0:00:01\r\u001b[K     |███████████████████████▉        | 30kB 20.2MB/s eta 0:00:01\r\u001b[K     |███████████████████████████████▉| 40kB 23.5MB/s eta 0:00:01\r\u001b[K     |████████████████████████████████| 51kB 6.6MB/s \n",
            "\u001b[?25hCollecting py-params>=0.9.6\n",
            "  Downloading https://files.pythonhosted.org/packages/aa/e0/4f663d8abf83c8084b75b995bd2ab3a9512ebc5b97206fde38cef906ab07/py-params-0.10.2.tar.gz\n",
            "Collecting params-flow>=0.8.0\n",
            "  Downloading https://files.pythonhosted.org/packages/a9/95/ff49f5ebd501f142a6f0aaf42bcfd1c192dc54909d1d9eb84ab031d46056/params-flow-0.8.2.tar.gz\n",
            "Requirement already satisfied: numpy in /usr/local/lib/python3.7/dist-packages (from params-flow>=0.8.0->bert-for-tf2) (1.19.5)\n",
            "Requirement already satisfied: tqdm in /usr/local/lib/python3.7/dist-packages (from params-flow>=0.8.0->bert-for-tf2) (4.41.1)\n",
            "Building wheels for collected packages: bert-for-tf2, py-params, params-flow\n",
            "  Building wheel for bert-for-tf2 (setup.py) ... \u001b[?25l\u001b[?25hdone\n",
            "  Created wheel for bert-for-tf2: filename=bert_for_tf2-0.14.9-cp37-none-any.whl size=30535 sha256=1a80e29554dae2d062c1f907e020c0360e77e5796d97834f3a543d73de4a7337\n",
            "  Stored in directory: /root/.cache/pip/wheels/a1/04/ee/347bd9f5b821b637c76411d280271a857aece00358896a230f\n",
            "  Building wheel for py-params (setup.py) ... \u001b[?25l\u001b[?25hdone\n",
            "  Created wheel for py-params: filename=py_params-0.10.2-cp37-none-any.whl size=7912 sha256=5b64ebbe80a2e109d171d5cde22df28e1aa1b40da3086bbd0db03e6bf3db9aa6\n",
            "  Stored in directory: /root/.cache/pip/wheels/d0/4a/70/ff12450229ff1955abf01f365051d4faae1c20aef53ab4cf09\n",
            "  Building wheel for params-flow (setup.py) ... \u001b[?25l\u001b[?25hdone\n",
            "  Created wheel for params-flow: filename=params_flow-0.8.2-cp37-none-any.whl size=19472 sha256=12ece492c38802a4399fcf30c7e74298feedb23e161bff7435d14a41254d71c0\n",
            "  Stored in directory: /root/.cache/pip/wheels/08/c8/7f/81c86b9ff2b86e2c477e3914175be03e679e596067dc630c06\n",
            "Successfully built bert-for-tf2 py-params params-flow\n",
            "Installing collected packages: py-params, params-flow, bert-for-tf2\n",
            "Successfully installed bert-for-tf2-0.14.9 params-flow-0.8.2 py-params-0.10.2\n",
            "Collecting sentencepiece\n",
            "\u001b[?25l  Downloading https://files.pythonhosted.org/packages/f5/99/e0808cb947ba10f575839c43e8fafc9cc44e4a7a2c8f79c60db48220a577/sentencepiece-0.1.95-cp37-cp37m-manylinux2014_x86_64.whl (1.2MB)\n",
            "\u001b[K     |████████████████████████████████| 1.2MB 18.1MB/s \n",
            "\u001b[?25hInstalling collected packages: sentencepiece\n",
            "Successfully installed sentencepiece-0.1.95\n"
          ],
          "name": "stdout"
        }
      ]
    },
    {
      "cell_type": "code",
      "metadata": {
        "colab": {
          "base_uri": "https://localhost:8080/"
        },
        "id": "5_2Q7bhM5yyo",
        "outputId": "3a7c80d3-5bfc-407d-ad47-c291960cd986"
      },
      "source": [
        "try:\n",
        "    %tensorflow_version 2.x #only available in Google colab\n",
        "except Exception:\n",
        "    pass\n",
        "import tensorflow as tf\n",
        "\n",
        "import tensorflow_hub as hub #used to import the weights from BERT\n",
        "\n",
        "from tensorflow.keras import layers\n",
        "import bert #installed in previous step"
      ],
      "execution_count": 3,
      "outputs": [
        {
          "output_type": "stream",
          "text": [
            "`%tensorflow_version` only switches the major version: 1.x or 2.x.\n",
            "You set: `2.x #only available in Google colab`. This will be interpreted as: `2.x`.\n",
            "\n",
            "\n",
            "TensorFlow 2.x selected.\n"
          ],
          "name": "stdout"
        }
      ]
    },
    {
      "cell_type": "markdown",
      "metadata": {
        "id": "QpEraUDf-ww2"
      },
      "source": [
        "# Data preprocessing\n"
      ]
    },
    {
      "cell_type": "code",
      "metadata": {
        "id": "uS-h5J916yJk",
        "colab": {
          "base_uri": "https://localhost:8080/"
        },
        "outputId": "45974667-7695-4bef-beed-1464f0938f59"
      },
      "source": [
        "#load files, data preprocessing\n",
        "drive.mount(\"/content/drive\")"
      ],
      "execution_count": 4,
      "outputs": [
        {
          "output_type": "stream",
          "text": [
            "Mounted at /content/drive\n"
          ],
          "name": "stdout"
        }
      ]
    },
    {
      "cell_type": "code",
      "metadata": {
        "id": "nnmHKgKq_GTe"
      },
      "source": [
        "#label columns\n",
        "#latin1 is common for western languages\n",
        "cols = [\"sentiment\", \"id\", \"date\", \"query\", \"user\", \"text\"]\n",
        "data = pd.read_csv(\n",
        "    \"/content/drive/MyDrive/trainingandtestdata.zip (Unzipped Files)/training.1600000.processed.noemoticon.csv\", \n",
        "    header = None,\n",
        "    names = cols,\n",
        "    engine = \"python\",\n",
        "    encoding = \"latin1\")"
      ],
      "execution_count": 5,
      "outputs": []
    },
    {
      "cell_type": "code",
      "metadata": {
        "id": "9ZBc-jZ-AJRP"
      },
      "source": [
        "#axis1 column data\n",
        "#without inplace=True, it would be required to write data = data.drop(\"...\")\n",
        "data.drop([\"id\", \"date\",\"query\", \"user\"], axis = 1, inplace = True)"
      ],
      "execution_count": 6,
      "outputs": []
    },
    {
      "cell_type": "code",
      "metadata": {
        "colab": {
          "base_uri": "https://localhost:8080/",
          "height": 204
        },
        "id": "iedT5fW1Awcp",
        "outputId": "ddd248f7-85e5-46c0-b739-9585114ef0f5"
      },
      "source": [
        "data.head()"
      ],
      "execution_count": 7,
      "outputs": [
        {
          "output_type": "execute_result",
          "data": {
            "text/html": [
              "<div>\n",
              "<style scoped>\n",
              "    .dataframe tbody tr th:only-of-type {\n",
              "        vertical-align: middle;\n",
              "    }\n",
              "\n",
              "    .dataframe tbody tr th {\n",
              "        vertical-align: top;\n",
              "    }\n",
              "\n",
              "    .dataframe thead th {\n",
              "        text-align: right;\n",
              "    }\n",
              "</style>\n",
              "<table border=\"1\" class=\"dataframe\">\n",
              "  <thead>\n",
              "    <tr style=\"text-align: right;\">\n",
              "      <th></th>\n",
              "      <th>sentiment</th>\n",
              "      <th>text</th>\n",
              "    </tr>\n",
              "  </thead>\n",
              "  <tbody>\n",
              "    <tr>\n",
              "      <th>0</th>\n",
              "      <td>0</td>\n",
              "      <td>@switchfoot http://twitpic.com/2y1zl - Awww, t...</td>\n",
              "    </tr>\n",
              "    <tr>\n",
              "      <th>1</th>\n",
              "      <td>0</td>\n",
              "      <td>is upset that he can't update his Facebook by ...</td>\n",
              "    </tr>\n",
              "    <tr>\n",
              "      <th>2</th>\n",
              "      <td>0</td>\n",
              "      <td>@Kenichan I dived many times for the ball. Man...</td>\n",
              "    </tr>\n",
              "    <tr>\n",
              "      <th>3</th>\n",
              "      <td>0</td>\n",
              "      <td>my whole body feels itchy and like its on fire</td>\n",
              "    </tr>\n",
              "    <tr>\n",
              "      <th>4</th>\n",
              "      <td>0</td>\n",
              "      <td>@nationwideclass no, it's not behaving at all....</td>\n",
              "    </tr>\n",
              "  </tbody>\n",
              "</table>\n",
              "</div>"
            ],
            "text/plain": [
              "   sentiment                                               text\n",
              "0          0  @switchfoot http://twitpic.com/2y1zl - Awww, t...\n",
              "1          0  is upset that he can't update his Facebook by ...\n",
              "2          0  @Kenichan I dived many times for the ball. Man...\n",
              "3          0    my whole body feels itchy and like its on fire \n",
              "4          0  @nationwideclass no, it's not behaving at all...."
            ]
          },
          "metadata": {
            "tags": []
          },
          "execution_count": 7
        }
      ]
    },
    {
      "cell_type": "code",
      "metadata": {
        "id": "yuOowEC5A77L"
      },
      "source": [
        "#cleaning\n",
        "#r is regEX (regexr.com for more documentation)\n",
        "def clean_tweet(tweet):\n",
        "    tweet = BeautifulSoup(tweet, \"lxml\").get_text() #tweets are not usuable as standard string, need BS to extract string\n",
        "    tweet = re.sub(r\"@[A-Za-z0-9]+\", ' ',tweet)#anything behind @symbol with empty space, apply to tweet\n",
        "    tweet = re.sub(r\"https?://[A-Za-z0-9./]+\", ' ', tweet)#? means the s can be there or not\n",
        "    tweet = re.sub(r\"[^a-zA-Z.!?]\", ' ', tweet) #keep only standard characters\n",
        "    tweet = re.sub(r\" +\", ' ', tweet) #replace multiple sequences of white space with only one white space\n",
        "    return tweet"
      ],
      "execution_count": 8,
      "outputs": []
    },
    {
      "cell_type": "code",
      "metadata": {
        "id": "o7OWnxvqDhPy"
      },
      "source": [
        "data_clean = [clean_tweet(tweet) for tweet in data.text]"
      ],
      "execution_count": 9,
      "outputs": []
    },
    {
      "cell_type": "code",
      "metadata": {
        "id": "JcyWH0k7Dp1R"
      },
      "source": [
        "#process sentiment\n",
        "data_labels = data.sentiment.values\n",
        "data_labels[data_labels ==4] =1 #data is using 0 and 4, replace 4 with standard 1"
      ],
      "execution_count": 10,
      "outputs": []
    },
    {
      "cell_type": "markdown",
      "metadata": {
        "id": "XYgOOo1qFCf2"
      },
      "source": [
        "# Tokenization\n"
      ]
    },
    {
      "cell_type": "code",
      "metadata": {
        "id": "pu5GO6VNEQME"
      },
      "source": [
        "#create BERT layer to have access to metadata for the tokenizer(like vocab size).\n",
        "#call BERT as a layer, hub is where all pretrained models are located\n",
        "#trainable = False bc we are not fine-tuning the weights\n",
        "FullTokenizer = bert.bert_tokenization.FullTokenizer\n",
        "bert_layer = hub.KerasLayer(\"https://tfhub.dev/tensorflow/bert_en_uncased_L-12_H-768_A-12/1\",\n",
        "                            trainable = False) \n",
        "vocab_file = bert_layer.resolved_object.vocab_file.asset_path.numpy() #way to have acces to vocab\n",
        "do_lower_case = bert_layer.resolved_object.do_lower_case.numpy()\n",
        "tokenizer = FullTokenizer(vocab_file, do_lower_case)"
      ],
      "execution_count": 11,
      "outputs": []
    },
    {
      "cell_type": "code",
      "metadata": {
        "id": "1UgKVfpYqQ9l"
      },
      "source": [
        "def encode_sentence(sent):\n",
        "    return tokenizer.convert_tokens_to_ids(tokenizer.tokenize(sent))"
      ],
      "execution_count": 12,
      "outputs": []
    },
    {
      "cell_type": "code",
      "metadata": {
        "id": "-j03moWVNYzC"
      },
      "source": [
        "data_inputs = [encode_sentence(sentence) for sentence in data_clean]"
      ],
      "execution_count": 13,
      "outputs": []
    },
    {
      "cell_type": "markdown",
      "metadata": {
        "id": "Ddn-T6UcPWiU"
      },
      "source": [
        "# Dataset Creation"
      ]
    },
    {
      "cell_type": "code",
      "metadata": {
        "id": "Vh5ARMEjNwXX"
      },
      "source": [
        "#create padding for each batches versus entire corpus, add token at end of each sentence\n",
        "#all input to have the same length in each batch\n",
        "#shuffle bc data the tweets are organized by sentiment\n",
        "\n",
        "data_with_len = [[sent, data_labels[i] ,len(sent)] \n",
        "                 for i, sent in enumerate(data_inputs)]\n",
        "random.shuffle(data_with_len) \n",
        "\n",
        "#lamba, anonymous function\n",
        "#data sorted by length\n",
        "data_with_len.sort(key=lambda x: x[2]) \n",
        "\n",
        "#keep only longer sentences bc shorter sentences may not \n",
        "#convey a lot a meaning after data cleanup\n",
        "sorted_all = [(sent_lab[0], sent_lab[1])\n",
        "                    for sent_lab in data_with_len if sent_lab[2]>7] "
      ],
      "execution_count": 14,
      "outputs": []
    },
    {
      "cell_type": "code",
      "metadata": {
        "id": "GOlUgZMu1OQf"
      },
      "source": [
        "#need from_generator bc sentences are different lengths\n",
        "all_dataset = tf.data.Dataset.from_generator(lambda: sorted_all, \n",
        "                                                output_types= (tf.int32, tf.int32))"
      ],
      "execution_count": 15,
      "outputs": []
    },
    {
      "cell_type": "code",
      "metadata": {
        "colab": {
          "base_uri": "https://localhost:8080/"
        },
        "id": "b4p6Q-Wyy59_",
        "outputId": "63262121-66bd-4c09-f006-a2ac7e7bbaff"
      },
      "source": [
        "#print first element\n",
        "next(iter(all_dataset))"
      ],
      "execution_count": 16,
      "outputs": [
        {
          "output_type": "execute_result",
          "data": {
            "text/plain": [
              "(<tf.Tensor: shape=(8,), dtype=int32, numpy=array([2204, 2021, 2025, 2004, 2204, 2004, 1045, 5113], dtype=int32)>,\n",
              " <tf.Tensor: shape=(), dtype=int32, numpy=0>)"
            ]
          },
          "metadata": {
            "tags": []
          },
          "execution_count": 16
        }
      ]
    },
    {
      "cell_type": "code",
      "metadata": {
        "id": "O9sMUdnkz6fT"
      },
      "source": [
        "#  padding\n",
        "BATCH_SIZE =32\n",
        "all_batched = all_dataset.padded_batch(BATCH_SIZE, padded_shapes=((None,  ), ()))"
      ],
      "execution_count": 17,
      "outputs": []
    },
    {
      "cell_type": "code",
      "metadata": {
        "colab": {
          "base_uri": "https://localhost:8080/"
        },
        "id": "t-np90Dr02FD",
        "outputId": "33493e94-ed3d-4a5c-b204-630980c37f2e"
      },
      "source": [
        "next(iter(all_batched))"
      ],
      "execution_count": 18,
      "outputs": [
        {
          "output_type": "execute_result",
          "data": {
            "text/plain": [
              "(<tf.Tensor: shape=(32, 8), dtype=int32, numpy=\n",
              " array([[ 2204,  2021,  2025,  2004,  2204,  2004,  1045,  5113],\n",
              "        [ 2128, 10474,  2041,  4270,  1012, 26968,  3383,  1029],\n",
              "        [ 4931,  2158,  1042,  1057,   999,  1045,  5223,  2023],\n",
              "        [ 4394,  2032,  2748,  1045,  2113,  2017,  2170,  2009],\n",
              "        [ 2017,  2288,  1996,  9573,  2365,  1012,  1012,  1012],\n",
              "        [ 2012,  1996,  3448, 11784,  2782,  2007,  2026,  3057],\n",
              "        [ 3666,  2694, 12954,  2904,  1996,  9212, 20554,  2063],\n",
              "        [ 2204,  2851, 13871, 13871, 13871, 13871, 13871,  2111],\n",
              "        [ 2045,  2003,  2498,  2000,  2079,  2012,  2188,  1012],\n",
              "        [ 2009,  1055,  1996,  9003,  3179,  1997,  5291,  6386],\n",
              "        [ 3407, 10680,  2154,   999,   999,   999,   999,   999],\n",
              "        [ 2748,  5003,  2572,  2009,  1055, 19461,  2051,   999],\n",
              "        [ 2103,  2053,  2293,  2852,  3980,  3892,  1029,   999],\n",
              "        [ 2003,  3241,  2002,  4152,  2000,  2543,  2619,  2651],\n",
              "        [13442,  1045,  3335,  3015, 15536,  2546,  1037,  7279],\n",
              "        [ 1057,  5603,  1012,  1012,  1012,  8738, 10572, 14978],\n",
              "        [ 1058, 11329,  2002,  1055,  2074,  3452, 23677,   999],\n",
              "        [ 5292,  3270,  4430,  3270,  4283,  2005,  1996,  7514],\n",
              "        [ 1045,  2123,  1056,  2066,  2008,  2801,  2012,  2035],\n",
              "        [ 1045, 10587,  2175,  2000,  4829,  2380,   999,   999],\n",
              "        [22091,  2053,  1045,  1049,  3374, 10094,  2115,  4937],\n",
              "        [ 3113,  1037,  2047,  2767,  2651,  3110,  3407,  1012],\n",
              "        [ 2035,  2026,  2814,  2024,  2908,  1012,  1012,  1012],\n",
              "        [ 6513,  2074,  2081, 25933, 11057, 16103,  3070, 20238],\n",
              "        [ 1045,  2074,  2587,  2104,  2026,  7279,  2171,  1012],\n",
              "        [ 2502,  3428,  8130,  2006,  1996,  5099, 13046,  2153],\n",
              "        [ 3504,  2066,  4542,   999,   999,  1999,  5951, 15536],\n",
              "        [ 3331,  2000, 19295,  1999,  2394,  2003,  5637,  2100],\n",
              "        [ 1045,  1059, 19833,  2000,  2202,  1037, 18996,   999],\n",
              "        [ 1012,  3109,  2480,  3398,  2008,  2208,  3504, 12476],\n",
              "        [ 4462, 13020, 14380,  9648,  1998, 13675,  2319,  9766],\n",
              "        [ 2123,  1056,  4737, 12043,  2057,  2222,  2079,  2009]],\n",
              "       dtype=int32)>, <tf.Tensor: shape=(32,), dtype=int32, numpy=\n",
              " array([0, 1, 0, 0, 0, 1, 0, 1, 0, 1, 1, 1, 0, 1, 1, 0, 1, 1, 0, 0, 0, 1,\n",
              "        0, 1, 1, 0, 0, 0, 0, 1, 1, 1], dtype=int32)>)"
            ]
          },
          "metadata": {
            "tags": []
          },
          "execution_count": 18
        }
      ]
    },
    {
      "cell_type": "code",
      "metadata": {
        "id": "mjSwvfbR19Ug"
      },
      "source": [
        "#get number of batches\n",
        "NB_BATCHES = math.ceil(len(sorted_all)/BATCH_SIZE)\n",
        "NB_BATCHES_TEST = NB_BATCHES//10\n",
        "all_batched.shuffle(NB_BATCHES)\n",
        "test_dataset = all_batched.take(NB_BATCHES_TEST)\n",
        "train_dataset = all_batched.skip(NB_BATCHES_TEST)"
      ],
      "execution_count": 19,
      "outputs": []
    },
    {
      "cell_type": "code",
      "metadata": {
        "id": "tEZvIF332-_F"
      },
      "source": [
        "class DCNN(tf.keras.Model):\n",
        "\n",
        "    def __init__(self, \n",
        "                 vocab_size,\n",
        "                 emb_dim = 128, \n",
        "                 nb_filters = 50,\n",
        "                 FFN_units = 512,\n",
        "                 nb_classes = 2, \n",
        "                 dropout_rate = 0.1,\n",
        "                 training = False,\n",
        "                 name = 'dcnn'):\n",
        "        \n",
        "        super(DCNN, self).__init__(name = name)\n",
        "\n",
        "        #creating layers used in the model, embedded\n",
        "        self.embedding = layers.Embedding(vocab_size, emb_dim)\n",
        "\n",
        "        self.bigram = layers.Conv1D(filters = nb_filters, \n",
        "                                               kernel_size =2, \n",
        "                                                padding = 'valid', \n",
        "                                                activation = 'relu')\n",
        "        \n",
        "        self.trigram = layers.Conv1D(filters = nb_filters, \n",
        "                                               kernel_size =3, \n",
        "                                                padding = 'valid', \n",
        "                                                activation = 'relu')\n",
        "\n",
        "        self.fourgram = layers.Conv1D(filters = nb_filters, \n",
        "                                               kernel_size =4, \n",
        "                                                padding = 'valid', \n",
        "                                                activation = 'relu')\n",
        "        \n",
        "        self.pool = layers.GlobalMaxPooling1D()\n",
        "\n",
        "        self.dense_1= layers.Dense(units = FFN_units,\n",
        "                                    activation = 'relu')\n",
        "        \n",
        "        self.dropout = layers.Dropout(rate = dropout_rate)\n",
        "        if nb_classes:\n",
        "            self.last_dense = layers.Dense(units = 1, activation = 'sigmoid')\n",
        "\n",
        "        else: \n",
        "            self.last_dense = layers.Dense(units = nb_classes, activation = 'softmax')\n",
        "\n",
        "    def call(self, inputs, training):\n",
        "        x = self.embedding(inputs)\n",
        "        x_1 = self.bigram(x)\n",
        "        x_1 = self.pool(x_1)\n",
        "        x_2 = self.bigram(x)\n",
        "        x_2 = self.pool(x_2) \n",
        "        x_3 = self.bigram(x)\n",
        "        x_3 = self.pool(x_3) #(batch_size, nb_filters)\n",
        "\n",
        "        merged = tf.concat([x_1, x_2, x_3], axis =-1)\n",
        "        merged = self.dense_1(merged)\n",
        "        merged = self.dropout(merged, training)\n",
        "        output = self.last_dense(merged)\n",
        "\n",
        "        return output"
      ],
      "execution_count": 20,
      "outputs": []
    },
    {
      "cell_type": "markdown",
      "metadata": {
        "id": "SUC8kabu9yrm"
      },
      "source": [
        "# Training\n"
      ]
    },
    {
      "cell_type": "code",
      "metadata": {
        "id": "e_aUyKDD9trg"
      },
      "source": [
        "VOCAB_SIZE =    len(tokenizer.vocab)\n",
        "EMB_DIM = 200\n",
        "NB_FILTERS = 100\n",
        "FFN_UNITS = 256\n",
        "NB_CLASSES = 2\n",
        "\n",
        "DROPOUT_RATE = 0.2\n",
        "\n",
        "NB_EPOCHS = 5"
      ],
      "execution_count": 21,
      "outputs": []
    },
    {
      "cell_type": "code",
      "metadata": {
        "id": "Is-CD869-M6x"
      },
      "source": [
        "Dcnn = DCNN(vocab_size = VOCAB_SIZE,\n",
        "                    emb_dim =   EMB_DIM,\n",
        "            nb_filters = NB_FILTERS, \n",
        "            FFN_units = FFN_UNITS,\n",
        "            nb_classes = NB_CLASSES,\n",
        "            dropout_rate = DROPOUT_RATE)\n",
        "            "
      ],
      "execution_count": 22,
      "outputs": []
    },
    {
      "cell_type": "code",
      "metadata": {
        "id": "_Xd278Zi-3NA"
      },
      "source": [
        "if NB_CLASSES ==2:\n",
        "    Dcnn.compile(loss = 'binary_crossentropy',\n",
        "                    optimizer = 'adam',\n",
        "                 metrics = ['accuracy'])\n",
        "\n",
        "else:\n",
        "    Dcnn.compile(loss = \"sparse_categorical_crossentropy\",\n",
        "                        optimizer = 'adam',\n",
        "                  metrics = ['sparse_categorical_crossentropy'])"
      ],
      "execution_count": 23,
      "outputs": []
    },
    {
      "cell_type": "code",
      "metadata": {
        "id": "AqHVxJrrAiAm"
      },
      "source": [
        "checkpoint_path = \"/content/drive/MyDrive/Udemy\"\n",
        "\n",
        "ckpt = tf.train.Checkpoint(Dcnn = Dcnn)\n",
        "\n",
        "ckpt_manager = tf.train.CheckpointManager(ckpt, checkpoint_path, max_to_keep =1)\n",
        "\n",
        "if ckpt_manager.latest_checkpoint:\n",
        "        ckpt.restore(ckpt_manager.latest_checkpoint)\n",
        "        print('Latest checkpoint has been restored')"
      ],
      "execution_count": 24,
      "outputs": []
    },
    {
      "cell_type": "code",
      "metadata": {
        "id": "u50EWnBnBYAg"
      },
      "source": [
        "#custom callback, execute during training\n",
        "class MyCustomCallback(tf.keras.callbacks.Callback):\n",
        "\n",
        "    def on_epoch_end(self, epoch, logs = None):\n",
        "        ckpt_manager.save()\n",
        "        print(\"Checkpoint saved at {}.\".format(checkpoint_path))"
      ],
      "execution_count": 25,
      "outputs": []
    },
    {
      "cell_type": "code",
      "metadata": {
        "colab": {
          "base_uri": "https://localhost:8080/"
        },
        "id": "cOpgdl8XCJRW",
        "outputId": "f8e61881-f3b5-4a98-c97c-9ff22efb3228"
      },
      "source": [
        "Dcnn.fit(train_dataset,\n",
        "         epochs = NB_EPOCHS,\n",
        "         callbacks = [MyCustomCallback()])"
      ],
      "execution_count": 26,
      "outputs": [
        {
          "output_type": "stream",
          "text": [
            "Epoch 1/5\n",
            "36913/36913 [==============================] - 2180s 58ms/step - loss: 0.4297 - accuracy: 0.8011\n",
            "Checkpoint saved at /content/drive/MyDrive/Udemy.\n",
            "Epoch 2/5\n",
            "36913/36913 [==============================] - 2163s 58ms/step - loss: 0.3762 - accuracy: 0.8338\n",
            "Checkpoint saved at /content/drive/MyDrive/Udemy.\n",
            "Epoch 3/5\n",
            "36913/36913 [==============================] - 2182s 59ms/step - loss: 0.3479 - accuracy: 0.8486\n",
            "Checkpoint saved at /content/drive/MyDrive/Udemy.\n",
            "Epoch 4/5\n",
            "36913/36913 [==============================] - 2201s 59ms/step - loss: 0.3230 - accuracy: 0.8610\n",
            "Checkpoint saved at /content/drive/MyDrive/Udemy.\n",
            "Epoch 5/5\n",
            "36913/36913 [==============================] - 2194s 59ms/step - loss: 0.3014 - accuracy: 0.8718\n",
            "Checkpoint saved at /content/drive/MyDrive/Udemy.\n"
          ],
          "name": "stdout"
        },
        {
          "output_type": "execute_result",
          "data": {
            "text/plain": [
              "<tensorflow.python.keras.callbacks.History at 0x7f6a6f532f10>"
            ]
          },
          "metadata": {
            "tags": []
          },
          "execution_count": 26
        }
      ]
    },
    {
      "cell_type": "markdown",
      "metadata": {
        "id": "O9t6MzV-yA_0"
      },
      "source": [
        "Evaluation\n"
      ]
    },
    {
      "cell_type": "code",
      "metadata": {
        "id": "Es_gSNApCUpf",
        "colab": {
          "base_uri": "https://localhost:8080/"
        },
        "outputId": "eedea038-6335-498b-ebe0-1548828e1b01"
      },
      "source": [
        "results = Dcnn.evaluate(test_dataset)\n",
        "print(results)"
      ],
      "execution_count": 27,
      "outputs": [
        {
          "output_type": "stream",
          "text": [
            "4101/4101 [==============================] - 26s 6ms/step - loss: 0.4137 - accuracy: 0.8237\n",
            "[0.41371220350265503, 0.8236710429191589]\n"
          ],
          "name": "stdout"
        }
      ]
    },
    {
      "cell_type": "code",
      "metadata": {
        "id": "o9uPasdgx_ic"
      },
      "source": [
        "#training accuracy .8718\n",
        "#testing accuracy .8237\n",
        "\n",
        "def get_prediction(sentence):\n",
        "    tokens = encode_sentence(sentence)\n",
        "    inputs = tf.expand_dims(tokens, 0)\n",
        "    output = Dcnn(inputs, training = False)\n",
        "    sentiment = math.floor(output*2)\n",
        "    if sentiment==0:\n",
        "        print(\"Output of model: {} \\nPredicted sentiment: negative.\".format(output))\n",
        "    elif sentiment==1:\n",
        "        print(\"Output of model: {} \\nPredicted sentiment: positive.\".format(output))"
      ],
      "execution_count": 28,
      "outputs": []
    },
    {
      "cell_type": "code",
      "metadata": {
        "id": "PvCz--yVy5r7",
        "outputId": "18e6cdc9-83df-40c9-ebf2-6b79f624ddf8",
        "colab": {
          "base_uri": "https://localhost:8080/"
        }
      },
      "source": [
        "get_prediction(\"I love this course.\")"
      ],
      "execution_count": 29,
      "outputs": [
        {
          "output_type": "stream",
          "text": [
            "Output of model: [[0.8760564]] \n",
            "Predicted sentiment: positive.\n"
          ],
          "name": "stdout"
        }
      ]
    },
    {
      "cell_type": "code",
      "metadata": {
        "id": "-wWtPDyDy-gB",
        "outputId": "5ff3b743-e793-41dc-c4bf-33951378b01e",
        "colab": {
          "base_uri": "https://localhost:8080/"
        }
      },
      "source": [
        "get_prediction(\"The training takes entirely too long!\")"
      ],
      "execution_count": 30,
      "outputs": [
        {
          "output_type": "stream",
          "text": [
            "Output of model: [[0.11303671]] \n",
            "Predicted sentiment: negative.\n"
          ],
          "name": "stdout"
        }
      ]
    },
    {
      "cell_type": "code",
      "metadata": {
        "id": "BRczsqXTzEPS"
      },
      "source": [
        ""
      ],
      "execution_count": null,
      "outputs": []
    }
  ]
}